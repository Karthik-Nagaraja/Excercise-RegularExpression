{
 "cells": [
  {
   "cell_type": "markdown",
   "metadata": {},
   "source": [
    "There are a few modules in Python's Standard Library that deal with dates and times. One is the time module, which deals primarily with Unix timestamps.\n",
    "\n",
    "A Unix timestamp is a floating point value with no explicit mention of day, month, or year. This value represents the number of seconds that have passed since the \"epoch\", or the first second of the year 1970. So, a timestamp of 0.0 would represent the epoch, and a timestamp of 60.0 would represent one minute after the epoch. We can represent any date after 1970 this way.\n",
    "\n",
    "To retrieve the current Unix timestamp, we use the time.time() function."
   ]
  },
  {
   "cell_type": "code",
   "execution_count": 1,
   "metadata": {
    "collapsed": false
   },
   "outputs": [
    {
     "name": "stdout",
     "output_type": "stream",
     "text": [
      "1502600924.84\n"
     ]
    }
   ],
   "source": [
    "import time\n",
    "current_time = time.time()\n",
    "print(current_time)"
   ]
  },
  {
   "cell_type": "markdown",
   "metadata": {},
   "source": [
    "We can convert a timestamp to a more human-readable form using the time.gmtime() function. This function takes a timestamp as an argument, and returns an instance of the struct_time class. struct_time instances have attributes that represent the current time in other ways.\n",
    "\n",
    "Here are some of the attributes:\n",
    "\n",
    "    tm_year: The year of the timestamp\n",
    "    tm_mon: The month of the timestamp (1-12)\n",
    "    tm_mday: The day in the month of the timestamp (1-31)\n",
    "    tm_hour: The hour of the timestamp (0-23)\n",
    "    tm_min: The minute of the timestamp (0-59)\n",
    "\n",
    "For example, we can retrieve the year value as an integer using the tm_year property:\n"
   ]
  },
  {
   "cell_type": "code",
   "execution_count": 2,
   "metadata": {
    "collapsed": false
   },
   "outputs": [
    {
     "name": "stdout",
     "output_type": "stream",
     "text": [
      "('current_struct_time is', time.struct_time(tm_year=2017, tm_mon=8, tm_mday=13, tm_hour=5, tm_min=10, tm_sec=22, tm_wday=6, tm_yday=225, tm_isdst=0))\n",
      "('current_hour is', 5)\n"
     ]
    }
   ],
   "source": [
    "import time\n",
    "current_time=time.time()\n",
    "current_struct_time=time.gmtime(current_time)\n",
    "current_hour=current_struct_time.tm_hour\n",
    "print(\"current_struct_time is\",current_struct_time)\n",
    "print(\"current_hour is\",current_hour)"
   ]
  },
  {
   "cell_type": "markdown",
   "metadata": {},
   "source": [
    "The datetime module offers better support for working extensively with dates. For example, it's easier to perform arithmetic on them (such as adding days), and to work with different time zones.\n",
    "\n",
    "The datetime module contains a class that's also named datetime that represents points in time. These datetime instances appear similar to struct_time instances.\n",
    "\n",
    "To represent a specific point in time, we pass in values into the constructor when creating an instance of the datetime class:"
   ]
  },
  {
   "cell_type": "code",
   "execution_count": 3,
   "metadata": {
    "collapsed": false
   },
   "outputs": [
    {
     "name": "stdout",
     "output_type": "stream",
     "text": [
      "('current_year is', 2017)\n",
      "('current_month is', 8)\n"
     ]
    }
   ],
   "source": [
    "import datetime\n",
    "current_datetime=datetime.datetime.now()\n",
    "current_year=current_datetime.year\n",
    "current_month=current_datetime.month\n",
    "print(\"current_year is\",current_year)\n",
    "print(\"current_month is\",current_month)"
   ]
  },
  {
   "cell_type": "markdown",
   "metadata": {},
   "source": [
    "nce adding a day, week, month, etc. to a date can be tedious to do from scratch, the datetime module provides the timedelta class. We can create an instance of this class that represents a span of time, then add or subtract it from instances of the datetime class.\n",
    "\n",
    "When we create instances of the timedelta class, we can specify the following parameters:\n",
    "\n",
    "    weeks\n",
    "    days\n",
    "    hours\n",
    "    minutes\n",
    "    seconds\n",
    "    milliseconds\n",
    "    microseconds\n",
    "\n",
    "Suppose we want to calculate the date for three weeks and two days from now. We would first create an instance of the datetime class that represents today:\n",
    "\n",
    "today = datetime.datetime.now()\n",
    "\n",
    "Then, we could get an instance of the timedelta class that represents the span of time we're working with:\n",
    "\n",
    "diff = datetime.timedelta(weeks = 3, days = 2)\n",
    "\n",
    "Finally, we would add these two instances:\n"
   ]
  },
  {
   "cell_type": "code",
   "execution_count": 4,
   "metadata": {
    "collapsed": true
   },
   "outputs": [],
   "source": [
    "import datetime\n",
    "kirks_birthday = datetime.datetime(year=2233, month=3, day=22)\n",
    "diff = datetime.timedelta(weeks = 15)\n",
    "before_kirk = kirks_birthday - diff"
   ]
  },
  {
   "cell_type": "markdown",
   "metadata": {},
   "source": [
    "The datetime.datetime.strftime() method takes a format string as its input. A format string contains special indicators, usually preceded by percent characters (\"%\"), that indicate where certain values should go. For example, suppose we stored a timestamp from March 3, 2010 in the object march3. If we want to format it nicely into the string \"Mar 03, 2010\", we can write the following code:"
   ]
  },
  {
   "cell_type": "code",
   "execution_count": 10,
   "metadata": {
    "collapsed": false
   },
   "outputs": [
    {
     "name": "stdout",
     "output_type": "stream",
     "text": [
      "2015-12-31 00:00:00\n",
      "12:00AM on Thursday December 31, 2015\n"
     ]
    }
   ],
   "source": [
    "mystery_date=datetime.datetime(2015, 12, 31, 0, 0)\n",
    "import datetime\n",
    "print(mystery_date)\n",
    "mystery_date_formatted_string = mystery_date.strftime(\"%I:%M%p on %A %B %d, %Y\")\n",
    "print(mystery_date_formatted_string)"
   ]
  },
  {
   "cell_type": "markdown",
   "metadata": {},
   "source": [
    "Just as we can convert a datetime object into a formatted string, we can also do the reverse. The datetime.datetime.strptime() function allows us to convert a string to a datetime instance:\n",
    "\n",
    "    The date string (e.g. \"Mar 03, 2010\")\n",
    "    The format string (e.g. \"%b %d, %Y\")\n",
    "\n",
    "With just these two arguments, strptime() will return a datetime instance for March 3, 2010. The one thing to remember is that datetime.datetime.strptime() is a function, not a method that's called on a specific object.\n"
   ]
  },
  {
   "cell_type": "code",
   "execution_count": 8,
   "metadata": {
    "collapsed": false
   },
   "outputs": [
    {
     "name": "stdout",
     "output_type": "stream",
     "text": [
      "12:00AM on Thursday January 02, 2003\n",
      "2003-01-02 00:00:00\n"
     ]
    }
   ],
   "source": [
    "mystery_date_formatted_string=\"12:00AM on Thursday January 02, 2003\"\n",
    "import datetime\n",
    "print(mystery_date_formatted_string)\n",
    "mystery_date = datetime.datetime.strptime(mystery_date_formatted_string, \"%I:%M%p on %A %B %d, %Y\")\n",
    "print(mystery_date)        "
   ]
  },
  {
   "cell_type": "code",
   "execution_count": 11,
   "metadata": {
    "collapsed": false
   },
   "outputs": [
    {
     "name": "stdout",
     "output_type": "stream",
     "text": [
      "['What\\'s your internet \"white whale\", something you\\'ve been searching for years to find with no luck?', '11510', '1433213314.0', '1', '26195']\n",
      "[\"What's your favorite video that is 10 seconds or less?\", '8656', '1434205517.0', '4', '8479']\n",
      "['What are some interesting tests you can take to find out about yourself?', '8480', '1443409636.0', '1', '4055']\n",
      "[\"PhD's of Reddit. What is a dumbed down summary of your thesis?\", '7927', '1440188623.0', '0', '13201']\n",
      "['What is cool to be good at, yet uncool to be REALLY good at?', '7711', '1440082910.0', '0', '20325']\n",
      "['[Serious] Redditors currently in a relationship, besides dinner and a movie, what are your favorite activities for date night?', '7598', '1439993280.0', '2', '5389']\n",
      "[\"Parents of Reddit, what's something that your kid has done that you pretended to be angry about but secretly impressed or amused you?\", '7553', '1439161809.0', '0', '11520']\n",
      "['What is a good subreddit to binge read the All Time Top Posts of?', '7498', '1438822288.0', '0', '2780']\n",
      "['What would the person who named Walkie Talkies have named other items?', '7501', '1447904351.0', '4', '6720']\n",
      "[\"People who grew up in a different socioeconomic class as your significant others, what are the notable differences you've noticed and how does it affect your relationship (if at all)?\", '7419', '1440358069.0', '0', '8603']\n"
     ]
    }
   ],
   "source": [
    "import csv\n",
    "f = open(\"askreddit_2015.csv\", 'r')\n",
    "csvreader = csv.reader(f)\n",
    "posts_with_header = list(csvreader)\n",
    "posts = posts_with_header[1:]\n",
    "for post in posts[:10]:\n",
    "    print(post)"
   ]
  },
  {
   "cell_type": "code",
   "execution_count": 12,
   "metadata": {
    "collapsed": true
   },
   "outputs": [],
   "source": [
    "import datetime\n",
    "for row in posts:\n",
    "    float_stamp = float(row[2])#Convert the value in the Time column (index 2 of each row) to a floating point number.\n",
    "    day = datetime.datetime.fromtimestamp(float_stamp) #floating point number to a datetime\n",
    "    row[2] = day"
   ]
  },
  {
   "cell_type": "markdown",
   "metadata": {},
   "source": [
    "Now that we've converted our posts data set to contain datetime instances, we can count how many of the top 1,000 posts users submitted in the month of March."
   ]
  },
  {
   "cell_type": "code",
   "execution_count": 14,
   "metadata": {
    "collapsed": false
   },
   "outputs": [
    {
     "name": "stdout",
     "output_type": "stream",
     "text": [
      "('upvotes in march', 58)\n"
     ]
    }
   ],
   "source": [
    "march_count = 0\n",
    "for row in posts:\n",
    "    if row[2].month == 3:\n",
    "        march_count += 1\n",
    "print(\"upvotes in march\",march_count)        "
   ]
  },
  {
   "cell_type": "code",
   "execution_count": 15,
   "metadata": {
    "collapsed": true
   },
   "outputs": [],
   "source": [
    "def count_posts_in_month(month):\n",
    "    count = 0\n",
    "    for row in posts:\n",
    "        if row[2].month == month:\n",
    "            count += 1\n",
    "    return count\n",
    "\n",
    "feb_count = count_posts_in_month(2)\n",
    "aug_count = count_posts_in_month(8)"
   ]
  },
  {
   "cell_type": "code",
   "execution_count": null,
   "metadata": {
    "collapsed": true
   },
   "outputs": [],
   "source": [
    "import datetime\n",
    "kirks_birthday = datetime.datetime.now()\n",
    "diff = datetime.timedelta(weeks = 15)\n",
    "before_kirk = kirks_birthday - diff\n",
    "print(before_kirk)"
   ]
  }
 ],
 "metadata": {
  "anaconda-cloud": {},
  "kernelspec": {
   "display_name": "Python [default]",
   "language": "python",
   "name": "python2"
  },
  "language_info": {
   "codemirror_mode": {
    "name": "ipython",
    "version": 2
   },
   "file_extension": ".py",
   "mimetype": "text/x-python",
   "name": "python",
   "nbconvert_exporter": "python",
   "pygments_lexer": "ipython2",
   "version": "2.7.12"
  }
 },
 "nbformat": 4,
 "nbformat_minor": 1
}
